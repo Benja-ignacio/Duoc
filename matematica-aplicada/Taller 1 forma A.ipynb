{
 "cells": [
  {
   "cell_type": "markdown",
   "metadata": {},
   "source": [
    "# Lluvias torrenciales, un desafío para las ciudades — ¿podrás evitar el diluvio?"
   ]
  },
  {
   "cell_type": "markdown",
   "metadata": {},
   "source": [
    "## Instrucciones\n",
    "\n",
    "1. Lea detenidamente el enunciado y las preguntas.\n",
    "2. Escriba sus desarrollos a continuación de la celda que dice “Desarrollo”.\n",
    "3. Sus respuestas deben estar justificadas y su desarrollo debe ser ordenado y claro.\n",
    "4. Se sugiere usar una celda de texto (markdown) con el número de la pregunta, una o más celdas de código para el desarrollo y luego una celda de texto (markdown) para escribir la respuesta.\n",
    "5. Guarde su progreso antes de cerrar el programa.\n",
    "6. Se prohíbe el uso de IA."
   ]
  },
  {
   "cell_type": "markdown",
   "metadata": {},
   "source": [
    "## Enunciado"
   ]
  },
  {
   "cell_type": "markdown",
   "metadata": {},
   "source": [
    "En época invernal, es común que algunas ciudades experimenten lluvias intensas, lo que puede poner a prueba su infraestructura. Este año, ciudades como Valparaíso, Santiago y Concepción han registrado precipitaciones que requieren atención especial.\n",
    "\n",
    "\n",
    "Durante un día de lluvia podemos representar la cantidad de agua acumulada, en milímetros (mm), en cada ciudad con respecto al tiempo transcurrido en horas (t) desde las 6 de la mañana, a través de las siguientes funciones cuadráticas:\n",
    "\n",
    "**Valparaíso**: $$V(t)=0,8t^{2}+12,8t+37$$\n",
    "\n",
    "**Santiago**: $$S(t) =t^{2}+16,5t+30$$\n",
    "\n",
    "**Concepción**: $$C(t) = 1,2t^{2}+19,2t+25$$\n",
    "\n",
    "Se sabe que los sistemas de alcantarillado de las ciudades no pueden acumular más de 100 mm de agua. Si se supera este umbral, será necesario enviar equipos de emergencia para evitar inundaciones.\n",
    "\n",
    "Con ayuda de Python responde las siguientes preguntas:\n",
    "\n",
    "1. ¿Cuál es el valor de $t$ a las 07:30 de la mañana? ¿Cuál sería la cantidad de agua acumulada en Concepción a las 07:30 de la mañana?\n",
    "1. En un mismo grafico, trace las tres funciones considerando que se pronostican 12 horas de lluvia.\n",
    "1. ¿Cuál será la primera ciudad en requerir la ayuda de los equipos de emergencia?\n",
    "1. Entre las 3 y 5 de la tarde, ¿en qué ciudad cayó más agua?"
   ]
  },
  {
   "cell_type": "markdown",
   "metadata": {},
   "source": [
    "## Desarrollo\n"
   ]
  },
  {
   "cell_type": "markdown",
   "metadata": {},
   "source": [
    "1. ¿Cuál es el valor de $t$ a las 07:30 de la mañana? ¿Cuál sería la cantidad de agua acumulada en Concepción a las 07:30 de la mañana?\n",
    "\n",
    "RESPUESTA\n",
    "\n",
    "El valor de t a las 7:30 es 1.5 horas y la cantidad de agua acomulada es 56.5 mm"
   ]
  },
  {
   "cell_type": "code",
   "execution_count": null,
   "metadata": {},
   "outputs": [],
   "source": [
    "def c(t):\n",
    "    c = 1.2*t**2 + 19.2*t + 25\n",
    "    return c\n",
    "\n",
    "agua_concepcion = c(1.5)\n",
    "\n",
    "print(\"Concepción:\", agua_concepcion, \"mm\")"
   ]
  },
  {
   "cell_type": "markdown",
   "metadata": {},
   "source": [
    ". En un mismo grafico, trace las tres funciones considerando que se pronostican 12 horas de lluvia.\n"
   ]
  },
  {
   "cell_type": "code",
   "execution_count": 4,
   "metadata": {},
   "outputs": [
    {
     "name": "stdout",
     "output_type": "stream",
     "text": [
      "Concepción: 56.5 mm\n"
     ]
    }
   ],
   "source": [
    "def v(t):\n",
    "    v = 0.8*t**2 + 12.8*t + 37\n",
    "    return v\n",
    "\n",
    "def s(t):\n",
    "    s = t**2 + 16.5*t + 30\n",
    "    return s \n",
    "\n",
    "def c(t):\n",
    "    c = 1.2*t**2 + 19.2*t + 25\n",
    "    return c\n",
    "\n",
    "agua_concepcion = c(1.5)\n",
    "\n",
    "print(\"Concepción:\", agua_concepcion, \"mm\")"
   ]
  },
  {
   "cell_type": "code",
   "execution_count": null,
   "metadata": {},
   "outputs": [],
   "source": []
  },
  {
   "cell_type": "code",
   "execution_count": null,
   "metadata": {},
   "outputs": [],
   "source": []
  },
  {
   "cell_type": "code",
   "execution_count": null,
   "metadata": {},
   "outputs": [],
   "source": [
    "# Calculate the value of t at 07:30 AM\n",
    "t_0730 = 1.5  # 07:30 AM is 1.5 hours after 6:00 AM\n",
    "\n",
    "# Calculate the amount of water accumulated in Concepción at 07:30 AM\n",
    "water_concepcion_0730 = c(t_0730)\n",
    "print(f\"Cantidad de agua acumulada en Concepción a las 07:30 AM: {water_concepcion_0730:.2f} mm\")"
   ]
  },
  {
   "cell_type": "code",
   "execution_count": null,
   "metadata": {
    "vscode": {
     "languageId": "markdown"
    }
   },
   "outputs": [],
   "source": []
  },
  {
   "cell_type": "code",
   "execution_count": null,
   "metadata": {
    "vscode": {
     "languageId": "markdown"
    }
   },
   "outputs": [],
   "source": []
  },
  {
   "cell_type": "code",
   "execution_count": null,
   "metadata": {
    "vscode": {
     "languageId": "markdown"
    }
   },
   "outputs": [],
   "source": []
  }
 ],
 "metadata": {
  "kernelspec": {
   "display_name": "Python 3",
   "language": "python",
   "name": "python3"
  },
  "language_info": {
   "codemirror_mode": {
    "name": "ipython",
    "version": 3
   },
   "file_extension": ".py",
   "mimetype": "text/x-python",
   "name": "python",
   "nbconvert_exporter": "python",
   "pygments_lexer": "ipython3",
   "version": "3.12.0"
  }
 },
 "nbformat": 4,
 "nbformat_minor": 2
}
