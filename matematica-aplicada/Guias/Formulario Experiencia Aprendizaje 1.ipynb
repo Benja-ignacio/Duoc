{
 "cells": [
  {
   "cell_type": "markdown",
   "metadata": {},
   "source": [
    "# Formulario Python para MAT2121"
   ]
  },
  {
   "cell_type": "markdown",
   "metadata": {},
   "source": [
    "## Importar bibliotecas o librerías"
   ]
  },
  {
   "cell_type": "code",
   "execution_count": null,
   "metadata": {},
   "outputs": [],
   "source": [
    "import numpy as np\n",
    "import matplotlib.pyplot as plt\n",
    "import sympy as sp\n"
   ]
  },
  {
   "cell_type": "markdown",
   "metadata": {},
   "source": [
    "## Manipulación de listas"
   ]
  },
  {
   "cell_type": "code",
   "execution_count": null,
   "metadata": {},
   "outputs": [],
   "source": [
    "lista = [1, 2, 3, 4]\n",
    "primer_elemento = lista[0] #Muestra el 1\n",
    "ultimo_eleneto = lista[-1] #Muestra el 4"
   ]
  },
  {
   "cell_type": "markdown",
   "metadata": {},
   "source": [
    "## Definición de una función"
   ]
  },
  {
   "cell_type": "code",
   "execution_count": null,
   "metadata": {},
   "outputs": [],
   "source": [
    "def suma(a, b):\n",
    "    return a + b"
   ]
  },
  {
   "cell_type": "markdown",
   "metadata": {},
   "source": [
    "## Llamar a una función"
   ]
  },
  {
   "cell_type": "code",
   "execution_count": null,
   "metadata": {},
   "outputs": [],
   "source": [
    "resultado = suma(3, 4) # el valor de resultado será 7"
   ]
  },
  {
   "cell_type": "markdown",
   "metadata": {},
   "source": [
    "## Graficar una función"
   ]
  },
  {
   "cell_type": "code",
   "execution_count": null,
   "metadata": {},
   "outputs": [],
   "source": [
    "def f(x):\n",
    "    return # función a graficar\n",
    "\n",
    "x = np.arange(valor inicial, valor final, paso)\n",
    "plt.plot(x, f(x), label = 'f(x)')\n",
    "plt.title('Nombre del gráfico')\n",
    "plt.ylabel('Nombre eje y')\n",
    "plt.xlabel('Nombre eje x')\n",
    "plt.legend()\n",
    "plt.grid()\n",
    "#opcional:\n",
    "ax=plt.gca()\n",
    "ax.spines[[\"left\",\"bottom\"]].set_position((\"data\",0))\n",
    "ax.spines[[\"right\",\"top\"]].set_visible(False)\n",
    "#\n",
    "\n",
    "plt.show()"
   ]
  },
  {
   "cell_type": "markdown",
   "metadata": {},
   "source": [
    "## Encontrar raíces de una función"
   ]
  },
  {
   "cell_type": "code",
   "execution_count": null,
   "metadata": {},
   "outputs": [],
   "source": [
    "#Método 1: UTILIZADO EN CLASES\n",
    "import sympy as sp \n",
    "\n",
    "\n",
    "def r(x):\n",
    "    return #'función'\n",
    "\n",
    "x=sp.Symbol(\"x\")\n",
    "ecuacion= #\"función menos imagen\"\n",
    "solucion=sp.solve(ecuacion,x)\n",
    "print(solucion)\n",
    "print(round(solucion[i],3)) #\"para mostrar la solución i\"\n"
   ]
  },
  {
   "cell_type": "markdown",
   "metadata": {},
   "source": [
    "## Encontrar forma algebraica de una función lineal"
   ]
  },
  {
   "cell_type": "code",
   "execution_count": null,
   "metadata": {},
   "outputs": [],
   "source": [
    "x = np.array([valor 1, valor 2, valor 3, …, valor n])\n",
    "y = np.array([valor 1, valor 2, valor 3, …, valor n])\n",
    "#Si la función es de grado 1\n",
    "pendiente, intercepto = np.polyfit(x, y, 1)\n"
   ]
  }
 ],
 "metadata": {
  "kernelspec": {
   "display_name": "Python 3",
   "language": "python",
   "name": "python3"
  },
  "language_info": {
   "name": "python",
   "version": "3.11.9"
  }
 },
 "nbformat": 4,
 "nbformat_minor": 2
}
